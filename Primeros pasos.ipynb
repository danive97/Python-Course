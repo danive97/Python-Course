{
 "cells": [
  {
   "cell_type": "code",
   "execution_count": 5,
   "metadata": {},
   "outputs": [
    {
     "name": "stdout",
     "output_type": "stream",
     "text": [
      "13\n"
     ]
    }
   ],
   "source": [
    "#Instrucciones simples, veamos ejemplos\n",
    "a = 12\n",
    "b = 1\n",
    "resultado = a + b\n",
    "print(resultado)"
   ]
  },
  {
   "cell_type": "code",
   "execution_count": 6,
   "metadata": {},
   "outputs": [
    {
     "name": "stdout",
     "output_type": "stream",
     "text": [
      "Hola me llamo Daniel Ojeda\n"
     ]
    }
   ],
   "source": [
    "a = 'Hola '\n",
    "b = 'me llamo '\n",
    "c = 'Daniel '\n",
    "d = 'Ojeda'\n",
    "\n",
    "frase = a + b + c + d\n",
    "\n",
    "print(frase)"
   ]
  },
  {
   "cell_type": "code",
   "execution_count": 12,
   "metadata": {},
   "outputs": [
    {
     "name": "stdout",
     "output_type": "stream",
     "text": [
      "No se cumplen los requisitos\n",
      "\n",
      "3\n"
     ]
    }
   ],
   "source": [
    "a = -1\n",
    "b = 2\n",
    "\n",
    "if a>0: \n",
    "    resultado = a + b\n",
    "    print(resultado)\n",
    "else:\n",
    "    print('No se cumplen los requisitos\\n')\n",
    "a = 1\n",
    "if a>0:\n",
    "    resultado = a + b\n",
    "    print(resultado)\n"
   ]
  },
  {
   "cell_type": "code",
   "execution_count": 15,
   "metadata": {},
   "outputs": [
    {
     "name": "stdout",
     "output_type": "stream",
     "text": [
      "Aprender Python es Fácil si comprendo su Sintaxis\n",
      "Se acaba de ejecutar una instrucción compuesta..\n",
      "\n",
      "Pero ahora estamos ejecutando instrucciones simples..\n",
      "Simplemente una tras otra.\n"
     ]
    }
   ],
   "source": [
    "#Declaración de variables\n",
    "\n",
    "a = \"Python\" #Instrucción simple\n",
    "b = \"Aprender\" #Instrucción simple\n",
    "c = \"Fácil\" #Instrucción simple\n",
    "d = \"Sintaxis\" #Instrucción simple\n",
    "e = True #Instrucción simple\n",
    "\n",
    "#Bloque de código a continuación\n",
    "if e == True: #Instrucción compuesta\n",
    "    print(b + \" \" + a + \" es \" + c + \" \"+ \"si comprendo su \" + d)\n",
    "    print (\"Se acaba de ejecutar una instrucción compuesta..\\n\")\n",
    "    #Sub-nivel Inst.Simple dentro de un bloque\n",
    "\n",
    "#Instrucciones simples nuevamente\n",
    "print (\"Pero ahora estamos ejecutando instrucciones simples..\")\n",
    "print (\"Simplemente una tras otra.\")"
   ]
  },
  {
   "cell_type": "code",
   "execution_count": 6,
   "metadata": {},
   "outputs": [
    {
     "name": "stdout",
     "output_type": "stream",
     "text": [
      "15\n",
      "20\n"
     ]
    }
   ],
   "source": [
    "#Creación de funciones en Python\n",
    "def Suma(sumando1, sumando2):#Defino la función Suma\n",
    "    resultado = sumando1 + sumando2#Declaro la variable Resultado como la suma de los dos sumandos\n",
    "    print(resultado)#Imprimo resultado\n",
    "\n",
    "def Producto(factor1, factor2):\n",
    "    resultado = factor1 * factor2\n",
    "    print(resultado)\n",
    "    \n",
    "Suma(10, 5)#Llamo a Suma pasandole los sumandos que queramos\n",
    "Producto(2, 10)"
   ]
  },
  {
   "cell_type": "code",
   "execution_count": 22,
   "metadata": {},
   "outputs": [
    {
     "name": "stdout",
     "output_type": "stream",
     "text": [
      "0 1 1 2 \n"
     ]
    }
   ],
   "source": [
    "#Sucesion de Fibonacci\n",
    "def Fibonacci(tamaño):#Defino la función de Fibonacci\n",
    "    a, b = 0,1#Declaro los dos valores, desde donde partimos\n",
    "    while a < tamaño:#Mientras a sea menor que el tamaño que le pasemos como parametro...\n",
    "        print(a, end=' ')#Imprimo a siempre, ya que es 0\n",
    "        a, b = b, a+b#Voy acumulando los nuevos valores a = b y b = a+b\n",
    "    print()#Voy imprimiendo los distintos valores\n",
    "    \n",
    "Fibonacci(3)#Llamo a Fibonacci, pasandole el tamaño de la cadena que queramos, ejemplo(7)"
   ]
  },
  {
   "cell_type": "code",
   "execution_count": null,
   "metadata": {},
   "outputs": [],
   "source": []
  }
 ],
 "metadata": {
  "kernelspec": {
   "display_name": "Python 3",
   "language": "python",
   "name": "python3"
  },
  "language_info": {
   "codemirror_mode": {
    "name": "ipython",
    "version": 3
   },
   "file_extension": ".py",
   "mimetype": "text/x-python",
   "name": "python",
   "nbconvert_exporter": "python",
   "pygments_lexer": "ipython3",
   "version": "3.8.5"
  }
 },
 "nbformat": 4,
 "nbformat_minor": 4
}
